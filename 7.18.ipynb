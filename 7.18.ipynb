{
 "cells": [
  {
   "cell_type": "markdown",
   "metadata": {},
   "source": [
    "# 选择\n",
    "## 布尔类型、数值和表达式\n",
    "![](../Photo/33.png)\n",
    "- 注意：比较运算符的相等是两个等号，一个等到代表赋值\n",
    "- 在Python中可以用整型0来代表False，其他数字来代表True\n",
    "- 后面还会讲到 is 在判断语句中的用发"
   ]
  },
  {
   "cell_type": "code",
   "execution_count": 5,
   "metadata": {},
   "outputs": [
    {
     "data": {
      "text/plain": [
       "False"
      ]
     },
     "execution_count": 5,
     "metadata": {},
     "output_type": "execute_result"
    }
   ],
   "source": [
    "a=1\n",
    "b=0\n",
    "a==b\n",
    "#=赋值"
   ]
  },
  {
   "cell_type": "code",
   "execution_count": 6,
   "metadata": {},
   "outputs": [
    {
     "data": {
      "text/plain": [
       "True"
      ]
     },
     "execution_count": 6,
     "metadata": {},
     "output_type": "execute_result"
    }
   ],
   "source": [
    "0==0\n"
   ]
  },
  {
   "cell_type": "code",
   "execution_count": 7,
   "metadata": {},
   "outputs": [
    {
     "data": {
      "text/plain": [
       "False"
      ]
     },
     "execution_count": 7,
     "metadata": {},
     "output_type": "execute_result"
    }
   ],
   "source": [
    "0 is 1"
   ]
  },
  {
   "cell_type": "code",
   "execution_count": 9,
   "metadata": {},
   "outputs": [
    {
     "data": {
      "text/plain": [
       "True"
      ]
     },
     "execution_count": 9,
     "metadata": {},
     "output_type": "execute_result"
    }
   ],
   "source": [
    "a= 'Joker'\n",
    "b='Jaker'\n",
    "a>b  #o在a的后面所以正确"
   ]
  },
  {
   "cell_type": "markdown",
   "metadata": {},
   "source": [
    "## 字符串的比较使用ASCII值"
   ]
  },
  {
   "cell_type": "markdown",
   "metadata": {},
   "source": [
    "## Markdown \n",
    "- https://github.com/younghz/Markdown"
   ]
  },
  {
   "cell_type": "markdown",
   "metadata": {},
   "source": [
    "## EP:\n",
    "- <img src=\"../Photo/34.png\"></img>\n",
    "- 输入一个数字，判断其实奇数还是偶数"
   ]
  },
  {
   "cell_type": "code",
   "execution_count": 51,
   "metadata": {},
   "outputs": [
    {
     "name": "stdout",
     "output_type": "stream",
     "text": [
      "偶数\n"
     ]
    }
   ],
   "source": [
    "n=2\n",
    "if n%2==0:\n",
    "   print('偶数')\n",
    "else:\n",
    "    print('奇数')\n",
    "    \n",
    "    \n"
   ]
  },
  {
   "cell_type": "code",
   "execution_count": 53,
   "metadata": {},
   "outputs": [
    {
     "name": "stdout",
     "output_type": "stream",
     "text": [
      "x:>>12\n",
      "偶数\n"
     ]
    }
   ],
   "source": [
    "x=eval(input('x:>>'))\n",
    "if bool(x%2):\n",
    "    print('奇数')\n",
    "else:\n",
    "    print('偶数')"
   ]
  },
  {
   "cell_type": "markdown",
   "metadata": {},
   "source": [
    "## 产生随机数字\n",
    "- 函数random.randint(a,b) 可以用来产生一个a和b之间且包括a和b的随机整数"
   ]
  },
  {
   "cell_type": "code",
   "execution_count": 54,
   "metadata": {},
   "outputs": [],
   "source": [
    "import random"
   ]
  },
  {
   "cell_type": "code",
   "execution_count": 29,
   "metadata": {},
   "outputs": [
    {
     "ename": "NameError",
     "evalue": "name 'random' is not defined",
     "output_type": "error",
     "traceback": [
      "\u001b[1;31m---------------------------------------------------------------------------\u001b[0m",
      "\u001b[1;31mNameError\u001b[0m                                 Traceback (most recent call last)",
      "\u001b[1;32m<ipython-input-29-111a69db3039>\u001b[0m in \u001b[0;36m<module>\u001b[1;34m\u001b[0m\n\u001b[1;32m----> 1\u001b[1;33m \u001b[0mrandom\u001b[0m\u001b[1;33m.\u001b[0m\u001b[0mrandint\u001b[0m\u001b[1;33m(\u001b[0m\u001b[1;36m25\u001b[0m\u001b[1;33m,\u001b[0m\u001b[1;36m39\u001b[0m\u001b[1;33m)\u001b[0m\u001b[1;33m\u001b[0m\u001b[1;33m\u001b[0m\u001b[0m\n\u001b[0m\u001b[0;32m      2\u001b[0m \u001b[0mn\u001b[0m\u001b[1;33m=\u001b[0m\u001b[0meval\u001b[0m\u001b[1;33m(\u001b[0m\u001b[0minput\u001b[0m\u001b[1;33m(\u001b[0m\u001b[1;34m'请输入一个数'\u001b[0m\u001b[1;33m)\u001b[0m\u001b[1;33m)\u001b[0m\u001b[1;33m\u001b[0m\u001b[1;33m\u001b[0m\u001b[0m\n\u001b[0;32m      3\u001b[0m \u001b[1;32mif\u001b[0m \u001b[0mn\u001b[0m\u001b[1;33m>\u001b[0m\u001b[1;36m39\u001b[0m\u001b[1;33m:\u001b[0m\u001b[1;33m\u001b[0m\u001b[1;33m\u001b[0m\u001b[0m\n\u001b[0;32m      4\u001b[0m     \u001b[0mprint\u001b[0m\u001b[1;33m(\u001b[0m\u001b[1;34m'太大了'\u001b[0m\u001b[1;33m)\u001b[0m\u001b[1;33m\u001b[0m\u001b[1;33m\u001b[0m\u001b[0m\n\u001b[0;32m      5\u001b[0m     \u001b[0mos\u001b[0m\u001b[1;33m.\u001b[0m\u001b[0msystem\u001b[0m\u001b[1;33m(\u001b[0m\u001b[1;34m'say too bigger'\u001b[0m\u001b[1;33m)\u001b[0m\u001b[1;33m\u001b[0m\u001b[1;33m\u001b[0m\u001b[0m\n",
      "\u001b[1;31mNameError\u001b[0m: name 'random' is not defined"
     ]
    }
   ],
   "source": [
    "random.randint(25,39)\n",
    "n=eval(input('请输入一个数')) \n",
    "if n>39:\n",
    "    print('太大了')\n",
    "    os.system('say too bigger')\n",
    "if n<25:\n",
    "    print('太小了')\n",
    "    os.system('say too small')\n",
    "else:\n",
    "    print('去死吧傻种')\n",
    "    os.system('say correct')\n"
   ]
  },
  {
   "cell_type": "markdown",
   "metadata": {},
   "source": [
    "产生一个随机数，你去输入，如果你输入的数大于随机数，那么就告诉你太大了，反之，太小了，\n",
    "然后你一直输入，知道它满意为止"
   ]
  },
  {
   "cell_type": "markdown",
   "metadata": {},
   "source": [
    "##  其他random方法\n",
    "- random.random 返回0.0到1.0之间前闭后开区间的随机浮点\n",
    "- random.randrange(a,b) 前闭后开"
   ]
  },
  {
   "cell_type": "code",
   "execution_count": 73,
   "metadata": {},
   "outputs": [
    {
     "data": {
      "text/plain": [
       "0.5926167815987272"
      ]
     },
     "execution_count": 73,
     "metadata": {},
     "output_type": "execute_result"
    }
   ],
   "source": [
    "random.random()"
   ]
  },
  {
   "cell_type": "code",
   "execution_count": 31,
   "metadata": {},
   "outputs": [],
   "source": [
    "import random\n"
   ]
  },
  {
   "cell_type": "code",
   "execution_count": 32,
   "metadata": {},
   "outputs": [
    {
     "data": {
      "text/plain": [
       "1"
      ]
     },
     "execution_count": 32,
     "metadata": {},
     "output_type": "execute_result"
    }
   ],
   "source": [
    "random.randrange(1,2)"
   ]
  },
  {
   "cell_type": "markdown",
   "metadata": {},
   "source": [
    "## EP：\n",
    "- 产生两个随机整数number1和number2，然后显示给用户，使用户输入数字的和，并判定其是否正确\n",
    "- 进阶:写一个随机序号点名程序"
   ]
  },
  {
   "cell_type": "code",
   "execution_count": 87,
   "metadata": {},
   "outputs": [
    {
     "name": "stdout",
     "output_type": "stream",
     "text": [
      "a+b\n",
      "请输入一个数1+2\n",
      "错误\n",
      "请输入一个数3+4\n",
      "错误\n",
      "请输入一个数4+5\n",
      "错误\n",
      "请输入一个数5+6\n",
      "错误\n",
      "请输入一个数7+8\n",
      "错误\n",
      "你没机会了\n"
     ]
    }
   ],
   "source": [
    "a=random.randrange(1,39)\n",
    "b=random.randrange(2,39)\n",
    "n=a+b\n",
    "print('a+b')\n",
    "n=eval(input(\"请输入一个数\")) \n",
    "if n==a+b:\n",
    "    print('正确')\n",
    "else:\n",
    "    print('错误')\n",
    "\n",
    "n=eval(input(\"请输入一个数\")) \n",
    "if n==a+b:\n",
    "    print('正确')\n",
    "else:\n",
    "    print('错误')\n",
    "n=eval(input(\"请输入一个数\")) \n",
    "if n==a+b:\n",
    "    print('正确')\n",
    "else:\n",
    "    print('错误')\n",
    "n=eval(input(\"请输入一个数\")) \n",
    "if n==a+b:\n",
    "    print('正确')\n",
    "else:\n",
    "    print('错误')\n",
    "n=eval(input(\"请输入一个数\")) \n",
    "if n==a+b:\n",
    "    print('正确')\n",
    "else:\n",
    "    print('错误')\n",
    "    print('你没机会了')\n"
   ]
  },
  {
   "cell_type": "code",
   "execution_count": 91,
   "metadata": {},
   "outputs": [
    {
     "name": "stdout",
     "output_type": "stream",
     "text": [
      "a+b\n",
      "请输入一个数1+2\n",
      "错误\n",
      "a+b\n",
      "请输入一个数3+4\n",
      "错误\n",
      "a+b\n",
      "请输入一个数4+5\n",
      "错误\n",
      "a+b\n",
      "请输入一个数5+6\n",
      "错误\n",
      "a+b\n",
      "请输入一个数6+7\n",
      "错误\n"
     ]
    }
   ],
   "source": [
    "a=random.randrange(1,39)\n",
    "b=random.randrange(2,39)\n",
    "for i in range(5):\n",
    "    n=a+b\n",
    "    print('a+b')\n",
    "    n=eval(input(\"请输入一个数\")) \n",
    "    if n==a+b:\n",
    "        print('正确')\n",
    "        break\n",
    "    else:\n",
    "        print('错误')\n"
   ]
  },
  {
   "cell_type": "code",
   "execution_count": 93,
   "metadata": {},
   "outputs": [
    {
     "name": "stdout",
     "output_type": "stream",
     "text": [
      "请输入一个数12\n",
      "2 可以整除\n",
      "3 可以整除\n",
      "4 可以整除\n",
      "6 可以整除\n"
     ]
    }
   ],
   "source": [
    "n=eval(input(\"请输入一个数\"))\n",
    "\n",
    "for i in range(2,n):\n",
    "    if x%i==0:\n",
    "        print(i,'可以整除')\n",
    "    \n",
    "    \n"
   ]
  },
  {
   "cell_type": "code",
   "execution_count": null,
   "metadata": {},
   "outputs": [],
   "source": [
    "#除了一和他本身"
   ]
  },
  {
   "cell_type": "markdown",
   "metadata": {},
   "source": [
    "## if语句\n",
    "- 如果条件正确就执行一个单向if语句，亦即当条件为真的时候才执行if内部的语句\n",
    "- Python有很多选择语句:\n",
    "> - 单向if \n",
    "  - 双向if-else\n",
    "  - 嵌套if\n",
    "  - 多向if-elif-else\n",
    "  \n",
    "- 注意：当语句含有子语句的时候，那么一定至少要有一个缩进，也就是说如果有儿子存在，那么一定要缩进\n",
    "- 切记不可tab键和space混用，单用tab 或者 space\n",
    "- 当你输出的结果是无论if是否为真时都需要显示时，语句应该与if对齐"
   ]
  },
  {
   "cell_type": "code",
   "execution_count": 23,
   "metadata": {},
   "outputs": [
    {
     "ename": "SyntaxError",
     "evalue": "invalid character in identifier (<ipython-input-23-b5456f5548eb>, line 13)",
     "output_type": "error",
     "traceback": [
      "\u001b[1;36m  File \u001b[1;32m\"<ipython-input-23-b5456f5548eb>\"\u001b[1;36m, line \u001b[1;32m13\u001b[0m\n\u001b[1;33m    print（'考虑一下'）\u001b[0m\n\u001b[1;37m         ^\u001b[0m\n\u001b[1;31mSyntaxError\u001b[0m\u001b[1;31m:\u001b[0m invalid character in identifier\n"
     ]
    }
   ],
   "source": [
    "money = input(\"money[y/n]\")\n",
    "if money == 'y':\n",
    "    print('再问一个问题')\n",
    "    handsame = input('handsame[[y/n]')\n",
    "    if handsame == 'y':\n",
    "        print('非常关键的一个问题')\n",
    "        wife = input('wife[y/n]')\n",
    "        if wife == 'y':\n",
    "            print ('不拒绝')\n",
    "        else:\n",
    "            print('马上结婚')\n",
    "    else:\n",
    "        print（'考虑一下'）\n",
    "    \n",
    "else:\n",
    "    print('滚')\n",
    "    "
   ]
  },
  {
   "cell_type": "code",
   "execution_count": 29,
   "metadata": {},
   "outputs": [
    {
     "name": "stdout",
     "output_type": "stream",
     "text": [
      "money[y/n]y\n",
      "再问一个问题\n",
      "handsame[[y/n]y\n",
      "非常关键的一个问题\n",
      "wife[y/n]y\n",
      "不拒绝\n"
     ]
    }
   ],
   "source": [
    "money = input(\"money[y/n]\")\n",
    "if money == 'y':\n",
    "    print('再问一个问题') \n",
    "    handsame = input('handsame[[y/n]')\n",
    "    if handsame == 'y':\n",
    "        print('非常关键的一个问题')\n",
    "        wife = input('wife[y/n]')\n",
    "        if wife ==  'y':\n",
    "            print('不拒绝')\n",
    "        else:\n",
    "            print('马上结婚')\n",
    "    else:\n",
    "        print('考虑一下')\n",
    "else:\n",
    "    print('滚')\n",
    "    \n",
    "        "
   ]
  },
  {
   "cell_type": "markdown",
   "metadata": {},
   "source": [
    "## EP：\n",
    "- 用户输入一个数字，判断其实奇数还是偶数\n",
    "- 进阶：可以查看下4.5实例研究猜生日"
   ]
  },
  {
   "cell_type": "markdown",
   "metadata": {},
   "source": [
    "## 双向if-else 语句\n",
    "- 如果条件为真，那么走if内部语句，否则走else内部语句"
   ]
  },
  {
   "cell_type": "markdown",
   "metadata": {},
   "source": [
    "## EP：\n",
    "- 产生两个随机整数number1和number2，然后显示给用户，使用户输入数字，并判定其是否正确,如果正确打印“you‘re correct”，否则打印正确错误"
   ]
  },
  {
   "cell_type": "markdown",
   "metadata": {},
   "source": [
    "## 嵌套if 和多向if-elif-else\n",
    "![](../Photo/35.png)"
   ]
  },
  {
   "cell_type": "markdown",
   "metadata": {},
   "source": [
    "## EP：\n",
    "- 提示用户输入一个年份，然后显示表示这一年的动物\n",
    "![](../Photo/36.png)\n",
    "- 计算身体质量指数的程序\n",
    "- BMI = 以千克为单位的体重除以以米为单位的身高的平方\n",
    "![](../Photo/37.png)"
   ]
  },
  {
   "cell_type": "code",
   "execution_count": 52,
   "metadata": {},
   "outputs": [
    {
     "name": "stdout",
     "output_type": "stream",
     "text": [
      "year[a/b/c/d/e/f/g/h/i/g/k/l]a\n",
      "猴\n"
     ]
    }
   ],
   "source": [
    "year = input(\"year[a/b/c/d/e/f/g/h/i/g/k/l]\")\n",
    "if year == \"a\":\n",
    "    print(\"猴\") \n",
    "elif year == \"b\":\n",
    "    print(\"鸡\")\n",
    "elif year == \"c\":\n",
    "    print(\"狗\")\n",
    "elif year == \"d\":\n",
    "    print(\"猪\")\n",
    "elif year == \"e\":\n",
    "    print(\"鼠\")\n",
    "elif year == \"f\":\n",
    "    print(\"牛\")\n",
    "elif year == \"g\":\n",
    "    print(\"虎\")\n",
    "elif year == \"h\":\n",
    "    print(\"兔\")\n",
    "elif year == \"i\":\n",
    "    print(\"龙\")\n",
    "elif year == \"j\":\n",
    "    print(\"蛇\")\n",
    "elif year == \"k\":\n",
    "    print(\"马\")\n",
    "elif year == \"l\":\n",
    "    print(\"羊\")\n",
    "else:\n",
    "    print('滚')"
   ]
  },
  {
   "cell_type": "code",
   "execution_count": 58,
   "metadata": {},
   "outputs": [
    {
     "name": "stdout",
     "output_type": "stream",
     "text": [
      "年2017\n",
      "猴\n"
     ]
    }
   ],
   "source": [
    "a = eval(input(\"年\"))\n",
    "year = a%12\n",
    "if year == 1:\n",
    "    print(\"猴\") \n",
    "elif year == 2:\n",
    "    print(\"鸡\")\n",
    "elif year == 3:\n",
    "    print(\"狗\")\n",
    "elif year == 4:\n",
    "    print(\"猪\")\n",
    "elif year == 5:\n",
    "    print(\"鼠\")\n",
    "elif year == 6:\n",
    "    print(\"牛\")\n",
    "elif year == 7:\n",
    "    print(\"虎\")\n",
    "elif year == 8:\n",
    "    print(\"兔\")\n",
    "elif year == 9:\n",
    "    print(\"龙\")\n",
    "elif year == 10:\n",
    "    print(\"蛇\")\n",
    "elif year == 11:\n",
    "    print(\"马\")\n",
    "elif year == 12:\n",
    "    print(\"羊\")\n",
    "else:\n",
    "    print('滚')"
   ]
  },
  {
   "cell_type": "code",
   "execution_count": 61,
   "metadata": {},
   "outputs": [
    {
     "name": "stdout",
     "output_type": "stream",
     "text": [
      "身高180\n",
      "体重125\n",
      "超轻\n"
     ]
    }
   ],
   "source": [
    "身高=eval(input('身高'))\n",
    "体重=eval(input('体重'))\n",
    "BIM=体重/身高**2\n",
    "if BIM <18.5:\n",
    "    print('超轻')\n",
    "elif 18.5<=BIM<25:\n",
    "    print('标准')\n",
    "elif 25<=BIM<30:\n",
    "    print('超重')\n",
    "elif 30<BIM:\n",
    "    print('超级胖胖')\n",
    "else:\n",
    "    print('滚')\n",
    "\n",
    "\n",
    "\n",
    "\n",
    "\n",
    " "
   ]
  },
  {
   "cell_type": "markdown",
   "metadata": {},
   "source": [
    "## 逻辑运算符\n",
    "![](../Photo/38.png)"
   ]
  },
  {
   "cell_type": "markdown",
   "metadata": {},
   "source": [
    "![](../Photo/39.png)\n",
    "![](../Photo/40.png)"
   ]
  },
  {
   "cell_type": "markdown",
   "metadata": {},
   "source": [
    "## EP：\n",
    "- 判定闰年：一个年份如果能被4整除但不能被100整除，或者能被400整除，那么这个年份就是闰年\n",
    "- 提示用户输入一个年份，并返回是否是闰年\n",
    "- 提示用户输入一个数字，判断其是否为水仙花数"
   ]
  },
  {
   "cell_type": "code",
   "execution_count": 15,
   "metadata": {},
   "outputs": [
    {
     "name": "stdout",
     "output_type": "stream",
     "text": [
      "请输入一个数3\n",
      "请输入一个数7\n",
      "请输入一个数0\n",
      "370\n",
      "是\n"
     ]
    }
   ],
   "source": [
    "a=eval(input('请输入一个数'))\n",
    "b=eval(input('请输入一个数'))\n",
    "c=eval(input('请输入一个数'))\n",
    "d=a*100+b*10+c\n",
    "print(d)\n",
    "if d==a**3+b**3+c**3:\n",
    "    print('是')\n",
    "else:\n",
    "    print('不是')"
   ]
  },
  {
   "cell_type": "markdown",
   "metadata": {},
   "source": [
    "## 实例研究：彩票\n",
    "![](../Photo/41.png)"
   ]
  },
  {
   "cell_type": "markdown",
   "metadata": {},
   "source": [
    "# Homework\n",
    "- 1\n",
    "![](../Photo/42.png)"
   ]
  },
  {
   "cell_type": "code",
   "execution_count": 22,
   "metadata": {},
   "outputs": [
    {
     "name": "stdout",
     "output_type": "stream",
     "text": [
      "given a number1\n",
      "given a number5\n",
      "given a number2\n",
      "-0.4384471871911697\n",
      "-4.561552812808831\n"
     ]
    }
   ],
   "source": [
    "a=eval(input('given a number'))\n",
    "b=eval(input('given a number'))\n",
    "c=eval(input('given a number'))\n",
    "r1=(-b+(b*b-4*a*c)**0.5)/2*a\n",
    "r2=(-b-(b*b-4*a*c)**0.5)/2*a\n",
    "x=b*b-4*a*c\n",
    "if x>0:\n",
    "    print(r1)\n",
    "    print(r2)\n",
    "elif x==0:\n",
    "    print(r1)\n",
    "else:\n",
    "    print('方程无实数根')\n",
    "\n",
    "\n",
    "\n"
   ]
  },
  {
   "cell_type": "markdown",
   "metadata": {},
   "source": [
    "- 2\n",
    "![](../Photo/43.png)"
   ]
  },
  {
   "cell_type": "code",
   "execution_count": 1,
   "metadata": {},
   "outputs": [],
   "source": [
    "import random\n"
   ]
  },
  {
   "cell_type": "code",
   "execution_count": null,
   "metadata": {},
   "outputs": [
    {
     "name": "stdout",
     "output_type": "stream",
     "text": [
      "118\n",
      "请输入一个数1\n"
     ]
    }
   ],
   "source": [
    "a=random.randrange(1,100)\n",
    "b=random.randrange(1,100)\n",
    "c=a+b\n",
    "print(c)\n",
    "d=eval(input('请输入一个数'))\n",
    "if c==d:\n",
    "    print('真')\n",
    "else:\n",
    "    print('假')"
   ]
  },
  {
   "cell_type": "code",
   "execution_count": 19,
   "metadata": {},
   "outputs": [
    {
     "name": "stdout",
     "output_type": "stream",
     "text": [
      "输入今天是星期几Mondy\n",
      "plus3\n",
      "4\n"
     ]
    }
   ],
   "source": [
    "Mondy=1\n",
    "Tuesday=2\n",
    "Wednesday=3\n",
    "Thurday=4\n",
    "Friday=5\n",
    "Saturday=6\n",
    "Sunday=0\n",
    "day=eval(input('输入今天是星期几'))\n",
    "plus_day=eval(input('plus'))\n",
    "results=(day+plus_day)%7\n",
    "print(results)\n",
    "\n"
   ]
  },
  {
   "cell_type": "markdown",
   "metadata": {},
   "source": [
    "- 4\n",
    "![](../Photo/45.png)"
   ]
  },
  {
   "cell_type": "code",
   "execution_count": 2,
   "metadata": {},
   "outputs": [
    {
     "name": "stdout",
     "output_type": "stream",
     "text": [
      "a,b,c:3,9,6\n",
      "3 6 9\n"
     ]
    }
   ],
   "source": [
    "a,b,c = eval(input('a,b,c:'))\n",
    "if a>b>c:\n",
    "    print(c,b,a)\n",
    "elif a>c>b:\n",
    "    print(b,c,a)\n",
    "elif b>a>c:\n",
    "    print(c,a,b)\n",
    "elif b>c>a:\n",
    "    print(a,c,b)\n",
    "elif c>a>b:\n",
    "    print(b,a,c)\n",
    "elif c>b>a:\n",
    "    print(a,b,c)"
   ]
  },
  {
   "cell_type": "markdown",
   "metadata": {},
   "source": [
    "- 5\n",
    "![](../Photo/46.png)"
   ]
  },
  {
   "cell_type": "code",
   "execution_count": 5,
   "metadata": {},
   "outputs": [
    {
     "name": "stdout",
     "output_type": "stream",
     "text": [
      "Enter weight and price for package 1:50,24.59\n",
      "Enter weight and price for package 2:25,11.99\n",
      "Paclage 2 has the better price.\n"
     ]
    }
   ],
   "source": [
    "price1,weight1 = eval(input('Enter weight and price for package 1:'))\n",
    "price2,weight2 = eval(input('Enter weight and price for package 2:'))\n",
    "if (price1/weight1)>(price2/weight2):\n",
    "    print('Package 1 has the better price.')\n",
    "elif (price1/weight1)<(price2/weight2):\n",
    "    print('Paclage 2 has the better price.')"
   ]
  },
  {
   "cell_type": "markdown",
   "metadata": {},
   "source": [
    "- 6\n",
    "![](../Photo/47.png)"
   ]
  },
  {
   "cell_type": "code",
   "execution_count": 13,
   "metadata": {},
   "outputs": [
    {
     "name": "stdout",
     "output_type": "stream",
     "text": [
      "输入月份2\n",
      "输入年份2000\n",
      "2000 年 2 月 有29天\n"
     ]
    }
   ],
   "source": [
    "month = eval(input('输入月份'))\n",
    "year = eval(input('输入年份'))\n",
    "if ((year%4==0) and (year%100!=0)) or (year%400==0):\n",
    "    if month<=7:\n",
    "        if month%2==0:\n",
    "            if month==2:\n",
    "                print(year,'年',month,'月','有29天')\n",
    "            else:\n",
    "                print(year,'年',month,'月','有30天')\n",
    "        else:\n",
    "            print(year,'年',month,'月','有31天')\n",
    "    else:\n",
    "        if month%2==0:\n",
    "            print(year,'年',month,'月','有31天')\n",
    "        else:\n",
    "            print(year,'年',month,'月','有30天')\n",
    "else :\n",
    "    if month<=7:\n",
    "        if month%2==0:\n",
    "            if month==2:\n",
    "                print(year,'年',month,'月','有28天')\n",
    "            else:\n",
    "                print(year,'年',month,'月','有30天')\n",
    "        else:\n",
    "            print(year,'年',month,'月','有31天')\n",
    "    else:\n",
    "        if month%2==0:\n",
    "            print(year,'年',month,'月','有31天')\n",
    "        else:\n",
    "            print(year,'年',month,'月','有30天')"
   ]
  },
  {
   "cell_type": "markdown",
   "metadata": {},
   "source": [
    "- 7\n",
    "![](../Photo/48.png)"
   ]
  },
  {
   "cell_type": "code",
   "execution_count": 14,
   "metadata": {},
   "outputs": [
    {
     "ename": "NameError",
     "evalue": "name 'random' is not defined",
     "output_type": "error",
     "traceback": [
      "\u001b[1;31m---------------------------------------------------------------------------\u001b[0m",
      "\u001b[1;31mNameError\u001b[0m                                 Traceback (most recent call last)",
      "\u001b[1;32m<ipython-input-14-1142d713d77a>\u001b[0m in \u001b[0;36m<module>\u001b[1;34m\u001b[0m\n\u001b[1;32m----> 1\u001b[1;33m \u001b[0mx\u001b[0m \u001b[1;33m=\u001b[0m \u001b[0mrandom\u001b[0m\u001b[1;33m.\u001b[0m\u001b[0mrandint\u001b[0m\u001b[1;33m(\u001b[0m\u001b[1;36m0\u001b[0m\u001b[1;33m,\u001b[0m\u001b[1;36m1\u001b[0m\u001b[1;33m)\u001b[0m\u001b[1;33m\u001b[0m\u001b[1;33m\u001b[0m\u001b[0m\n\u001b[0m\u001b[0;32m      2\u001b[0m \u001b[0my\u001b[0m \u001b[1;33m=\u001b[0m \u001b[0meval\u001b[0m\u001b[1;33m(\u001b[0m\u001b[0minput\u001b[0m\u001b[1;33m(\u001b[0m\u001b[1;34m'正面为1，反面为0 输入猜测数字'\u001b[0m\u001b[1;33m)\u001b[0m\u001b[1;33m)\u001b[0m\u001b[1;33m\u001b[0m\u001b[1;33m\u001b[0m\u001b[0m\n\u001b[0;32m      3\u001b[0m \u001b[1;32mif\u001b[0m \u001b[0my\u001b[0m \u001b[1;33m==\u001b[0m \u001b[0mx\u001b[0m\u001b[1;33m:\u001b[0m\u001b[1;33m\u001b[0m\u001b[1;33m\u001b[0m\u001b[0m\n\u001b[0;32m      4\u001b[0m     \u001b[0mprint\u001b[0m\u001b[1;33m(\u001b[0m\u001b[1;34m'猜测正确'\u001b[0m\u001b[1;33m)\u001b[0m\u001b[1;33m\u001b[0m\u001b[1;33m\u001b[0m\u001b[0m\n\u001b[0;32m      5\u001b[0m \u001b[1;32melse\u001b[0m \u001b[1;33m:\u001b[0m\u001b[1;33m\u001b[0m\u001b[1;33m\u001b[0m\u001b[0m\n",
      "\u001b[1;31mNameError\u001b[0m: name 'random' is not defined"
     ]
    }
   ],
   "source": [
    "x = random.randint(0,1)\n",
    "y = eval(input('正面为1，反面为0 输入猜测数字'))\n",
    "if y == x:\n",
    "    print('猜测正确')\n",
    "else :\n",
    "    print('猜测错误')"
   ]
  },
  {
   "cell_type": "markdown",
   "metadata": {},
   "source": [
    "- 8\n",
    "![](../Photo/49.png)"
   ]
  },
  {
   "cell_type": "code",
   "execution_count": 16,
   "metadata": {},
   "outputs": [
    {
     "name": "stdout",
     "output_type": "stream",
     "text": [
      "剪刀为0，石头为1，布为2：1\n",
      "coumputer is 1\n",
      "it is a draw\n"
     ]
    }
   ],
   "source": [
    "import random\n",
    "computer = random.randint(0,2)\n",
    "m = eval(input('剪刀为0，石头为1，布为2：'))\n",
    "if computer>m:\n",
    "    print('coumputer is',computer)\n",
    "    print('computer won')\n",
    "if computer<m:\n",
    "    print('coumputer is',computer)\n",
    "    print('mine won')\n",
    "if computer==m:\n",
    "    print('coumputer is',computer)\n",
    "    print('it is a draw')"
   ]
  },
  {
   "cell_type": "markdown",
   "metadata": {},
   "source": [
    "- 9\n",
    "![](../Photo/50.png)"
   ]
  },
  {
   "cell_type": "code",
   "execution_count": 17,
   "metadata": {},
   "outputs": [
    {
     "name": "stdout",
     "output_type": "stream",
     "text": [
      "请输入年份2018\n",
      "请输入月份3\n",
      "请输入这是这个月的第几天3\n",
      "0.9000000000000057\n",
      "今天是星期六\n"
     ]
    }
   ],
   "source": [
    "import math\n",
    "y = int(input(\"请输入年份\"))\n",
    "m = int(input(\"请输入月份\"))\n",
    "q = int(input(\"请输入这是这个月的第几天\"))\n",
    "a = q + ((26 * (m + 1)) / 10 )\n",
    "j = y // 100\n",
    "k = y % 100\n",
    "b = k + (k / 4) +(j / 4) + 5 * j\n",
    "h = (a+b)%7\n",
    "print(h)\n",
    "x = math.floor(h)\n",
    "if x == 0: \n",
    "    print(\"今天是星期六\")\n",
    "elif x == 2: \n",
    "            print(\"今天是星期一\")\n",
    "elif x == 3:\n",
    "            print(\"今天是星期二\")\n",
    "elif x == 4:\n",
    "            print(\"今天是星期三\")\n",
    "elif x == 5:\n",
    "            print(\"今天是星期四\")\n",
    "elif x == 6:\n",
    "            print(\"今天是星期五\")\n",
    "elif x == 1:\n",
    "            print(\"今天是星期日\")"
   ]
  },
  {
   "cell_type": "markdown",
   "metadata": {},
   "source": [
    "- 10\n",
    "![](../Photo/51.png)"
   ]
  },
  {
   "cell_type": "code",
   "execution_count": 3,
   "metadata": {},
   "outputs": [
    {
     "name": "stdout",
     "output_type": "stream",
     "text": [
      "The card you picked is the 红桃 of 9\n"
     ]
    }
   ],
   "source": [
    "import random\n",
    "colour=random.randint(1,4)\n",
    "value=random.randint(1,12)\n",
    "if colour==1:\n",
    "    h='梅花'\n",
    "elif colour==2:\n",
    "    h='红桃'\n",
    "elif colour==3:\n",
    "    h='方块'\n",
    "elif colour==4:\n",
    "    h='黑桃'\n",
    "elif value==1:\n",
    "    value='Ace'\n",
    "elif value==2:\n",
    "    value='2'\n",
    "elif value==3:\n",
    "    value='3'\n",
    "elif value==4:\n",
    "    value='4'\n",
    "elif value==5:\n",
    "    value='5'\n",
    "elif value==6:\n",
    "    value='6'\n",
    "elif value==7:\n",
    "    value='7'\n",
    "elif value==8:\n",
    "    value='8'\n",
    "elif value==9:\n",
    "    value='9'\n",
    "elif value==10:\n",
    "    value='10'\n",
    "elif value==11:\n",
    "    value='Jack'\n",
    "elif value==2:\n",
    "    value='Queen'\n",
    "elif value==2:\n",
    "    value='king'\n",
    "\n",
    "print('The card you picked is the',h,'of',value)"
   ]
  },
  {
   "cell_type": "code",
   "execution_count": 2,
   "metadata": {},
   "outputs": [
    {
     "name": "stdout",
     "output_type": "stream",
     "text": [
      "请输入一个三位整数:121\n",
      "121 是回文数\n"
     ]
    }
   ],
   "source": [
    "x = eval(input('请输入一个三位整数:'))\n",
    "if x%10==x//100:\n",
    "    print(x,'是回文数')\n",
    "else:\n",
    "    print(x,'不是回文数')\n",
    "    "
   ]
  },
  {
   "cell_type": "markdown",
   "metadata": {},
   "source": [
    "- 12\n",
    "![](../Photo/53.png)"
   ]
  },
  {
   "cell_type": "code",
   "execution_count": 1,
   "metadata": {},
   "outputs": [
    {
     "name": "stdout",
     "output_type": "stream",
     "text": [
      "Enter three edges:1,1,1\n",
      "The perimeter is 3\n"
     ]
    }
   ],
   "source": [
    "a,b,c = eval(input('Enter three edges:'))\n",
    "if (a+b>c) and (a+c>b) and (b+c>a):\n",
    "    print('The perimeter is',a+b+c)\n",
    "else:\n",
    "    print('输入的边长是非法的')"
   ]
  }
 ],
 "metadata": {
  "kernelspec": {
   "display_name": "Python 3",
   "language": "python",
   "name": "python3"
  },
  "language_info": {
   "codemirror_mode": {
    "name": "ipython",
    "version": 3
   },
   "file_extension": ".py",
   "mimetype": "text/x-python",
   "name": "python",
   "nbconvert_exporter": "python",
   "pygments_lexer": "ipython3",
   "version": "3.7.3"
  }
 },
 "nbformat": 4,
 "nbformat_minor": 2
}
